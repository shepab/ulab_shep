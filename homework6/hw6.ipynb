{
 "cells": [
  {
   "cell_type": "markdown",
   "id": "21a1f0d2-d75c-4443-b816-1d1db3760454",
   "metadata": {},
   "source": [
    "# HW 6 - Iterables\n",
    "ULAB - Physics and Astronomy Division \\\n",
    "Due **Wednesday, October 30th, 2024 at 11:59pm** on Gradescope\n",
    "\n",
    "### REMINDER: Once you are done with this homework, make sure to include a screenshot of you pushing this notebook inside of your homework6 branch. Make sure to include this screenshot in your branch before submitting to Gradescope!\n",
    "\n",
    "### If there is no screenshot, then you will recieve a zero! \n",
    "\n",
    "General Tip (so you don't get silly points taken off):\n",
    "- Make sure **each function** follows good coding practices (i.e. a comment, detailed names, different steps on each line, etc)."
   ]
  },
  {
   "cell_type": "markdown",
   "id": "8dc7e46b-1e8e-486c-a2e9-d615c687028b",
   "metadata": {},
   "source": [
    "# 1 Lists\n",
    "\n",
    "## 1.1 List Slicing and Striding\n",
    "Write a **function** that takes in a list of integers and returns:\n",
    "\n",
    "- the first 5 elements\n",
    "- the last 5 elements\n",
    "- every 2nd element in the list\n",
    "- the list in reverse order.\n",
    "\n",
    "Use the test case below, along with two other ones (that you make-up):\n",
    "\n",
    "```\n",
    "list = [1, 2, 3, 4, 5, 6, 7, 8, 9, 10, 11, 12, 14, 15, 16, 17, 18, 19, 20]\n",
    "```"
   ]
  },
  {
   "cell_type": "code",
   "execution_count": 5,
   "id": "08dabd73-3dbc-4aab-843a-d4b81102835d",
   "metadata": {},
   "outputs": [
    {
     "name": "stdout",
     "output_type": "stream",
     "text": [
      "[1, 2, 3, 4, 5]\n",
      "[16, 17, 18, 19, 20]\n",
      "[2, 4, 6, 8, 10, 12, 15, 17, 19]\n",
      "[20, 19, 18, 17, 16, 15, 14, 12, 11, 10, 9, 8, 7, 6, 5, 4, 3, 2, 1]\n",
      "[6, 5, 2, 3, 3]\n",
      "[3, 3, 0, 10, 23]\n",
      "[5, 3, 0, 23]\n",
      "[23, 10, 0, 3, 3, 2, 5, 6]\n",
      "[20, 19, 18, 17, 16]\n",
      "[14, 13, 12, 11, 10]\n",
      "[19, 17, 15, 13, 11]\n",
      "[10, 11, 12, 13, 14, 15, 16, 17, 18, 19, 20]\n"
     ]
    }
   ],
   "source": [
    "def list_elements(list):\n",
    "    # Returns the first five elements\n",
    "    first_five = list[0:5]\n",
    "    \n",
    "    # Returns the last five elements\n",
    "    last_five = list[-5:]\n",
    "    \n",
    "    # Returns every second element\n",
    "    every_second = list[1::2]\n",
    "\n",
    "    # Reverses the list\n",
    "    list.reverse()\n",
    "    print(first_five)\n",
    "    print(last_five)\n",
    "    print(every_second)\n",
    "    print(list)\n",
    "\n",
    "# Test cases\n",
    "list = [1, 2, 3, 4, 5, 6, 7, 8, 9, 10, 11, 12, 14, 15, 16, 17, 18, 19, 20]\n",
    "list_elements(list)\n",
    "\n",
    "list = [6, 5, 2, 3, 3, 0, 10, 23]\n",
    "list_elements(list)\n",
    "\n",
    "list = [20, 19, 18, 17, 16, 15, 14, 13, 12, 11, 10]\n",
    "list_elements(list)"
   ]
  },
  {
   "cell_type": "markdown",
   "id": "92c77920-20fc-455e-bf52-10b5a518ed2d",
   "metadata": {},
   "source": [
    "## 1.2 Iterating Over Lists with For Loops\n",
    "Write a **function** that takes in a list, with a **for** loop to return: \n",
    "- the square of each number in the list\n",
    "- the cube of each even number in the list\n",
    "\n",
    "Use the test case below, along with two other ones (that you make-up):\n",
    "\n",
    "```\n",
    "list = [1, 2, 3, 4, 5, 6]\n",
    "```"
   ]
  },
  {
   "cell_type": "code",
   "execution_count": 6,
   "id": "5054c807-a247-4159-9ce1-43020bcc3000",
   "metadata": {},
   "outputs": [
    {
     "name": "stdout",
     "output_type": "stream",
     "text": [
      "[1, 4, 9, 16, 25, 36]\n",
      "[8, 64, 216]\n",
      "[100, 121, 144, 225, 289, 400]\n",
      "[1000, 1728, 8000]\n"
     ]
    }
   ],
   "source": [
    "def list_loop(list):\n",
    "    # Returns the square of each element in the list and the cube of each even element\n",
    "    square = []\n",
    "    cube = []\n",
    "    for element in range(len(list)):\n",
    "        # Adds squares of elements to an empty list\n",
    "        square.append(list[element]**2)\n",
    "        \n",
    "    for element in range(len(list)):\n",
    "        # Determines if elements are even, then adds the cubes to an empty list\n",
    "        if list[element]%2 == 0:\n",
    "            cube.append(list[element]**3)\n",
    "            \n",
    "    print(square)\n",
    "    print(cube)\n",
    "\n",
    "list = [1, 2, 3, 4, 5, 6]\n",
    "list_loop(list)\n",
    "\n",
    "list = [10, 11, 12, 15, 17, 20]\n",
    "list_loop(list)"
   ]
  },
  {
   "cell_type": "markdown",
   "id": "e2e075da-c004-400d-b796-5435e096816d",
   "metadata": {},
   "source": [
    "# 2 Dictionaries\n",
    "We have not fully covered **dictionaries** in class, but a **dictionary** is a collection of key-value pairs. Each key is unique and is associated with a specific value. Like a real dictionary! \n",
    "\n",
    "You can create a dictionary by placing key-value pairs inside of curly brackets `{}` with a `:` separating the key from the value. \n",
    "\n",
    "Run the cell below for an example:"
   ]
  },
  {
   "cell_type": "code",
   "execution_count": 7,
   "id": "dbdb0f41-4f57-4524-ab51-ff1fc502bdfc",
   "metadata": {},
   "outputs": [
    {
     "name": "stdout",
     "output_type": "stream",
     "text": [
      "{'Mercury': 0.39, 'Venus': 0.72, 'Earth': 1.0, 'Mars': 1.52, 'Jupiter': 5.2, 'Saturn': 9.58, 'Uranus': 19.22, 'Neptune': 30.05}\n"
     ]
    }
   ],
   "source": [
    "# A dictionary that contains some data about the planets in our solar system\n",
    "planet_data = {\n",
    "    \"Mercury\": 0.39, \n",
    "    \"Venus\": 0.72,\n",
    "    \"Earth\": 1.00, # distance from the Sun in AU\n",
    "    \"Mars\": 1.52,\n",
    "    \"Jupiter\": 5.20,\n",
    "    \"Saturn\": 9.58,\n",
    "    \"Uranus\": 19.22,\n",
    "    \"Neptune\": 30.05\n",
    "}   \n",
    "\n",
    "print(planet_data) # print the dictonary"
   ]
  },
  {
   "cell_type": "markdown",
   "id": "886c93f4-0027-4969-ba67-cc12eca04c9c",
   "metadata": {},
   "source": [
    "## 2.1 Looping through a dictionary\n",
    "Write a function that takes in the `planet_data` dictionary and uses a `for` loop to print the names of each of the planets and its distance from the sun."
   ]
  },
  {
   "cell_type": "code",
   "execution_count": 8,
   "id": "a3ab065a-42f5-4aa0-8e0f-38e87c583464",
   "metadata": {},
   "outputs": [
    {
     "name": "stdout",
     "output_type": "stream",
     "text": [
      "Planet name: Mercury, distance: 0.39 AU\n",
      "Planet name: Venus, distance: 0.72 AU\n",
      "Planet name: Earth, distance: 1.0 AU\n",
      "Planet name: Mars, distance: 1.52 AU\n",
      "Planet name: Jupiter, distance: 5.2 AU\n",
      "Planet name: Saturn, distance: 9.58 AU\n",
      "Planet name: Uranus, distance: 19.22 AU\n",
      "Planet name: Neptune, distance: 30.05 AU\n"
     ]
    }
   ],
   "source": [
    "def planet_printing(data):\n",
    "    # Prints the names and distances of planets\n",
    "    planets = []\n",
    "    distances = []\n",
    "    \n",
    "    for planet in data.keys():\n",
    "        # Adds planets to an empty list\n",
    "        planets.append(planet)\n",
    "        \n",
    "    for distance in data.values():\n",
    "        # Adds distances to an empty list\n",
    "        distances.append(distance)\n",
    "        \n",
    "    for i in range(len(planets)):\n",
    "        # Prints the name and distance of each planet\n",
    "        print(\"Planet name: \" + planets[i] + \", distance:\", distances[i], \"AU\")\n",
    "\n",
    "planet_printing(planet_data)"
   ]
  },
  {
   "cell_type": "markdown",
   "id": "2b38b6fb-ce68-4f20-a8a1-ba241e8db53e",
   "metadata": {},
   "source": [
    "## 2.2 Dictionaries and Conditionals\n",
    "Write a function that uses a while loop to print all the planets that are a minimum distance of 5 AU from the Sun. "
   ]
  },
  {
   "cell_type": "code",
   "execution_count": 9,
   "id": "6e07cf13-efba-4a75-ad75-0428dc31108d",
   "metadata": {},
   "outputs": [
    {
     "ename": "TypeError",
     "evalue": "'list' object is not callable",
     "output_type": "error",
     "traceback": [
      "\u001b[0;31m---------------------------------------------------------------------------\u001b[0m",
      "\u001b[0;31mTypeError\u001b[0m                                 Traceback (most recent call last)",
      "Cell \u001b[0;32mIn[9], line 12\u001b[0m\n\u001b[1;32m      9\u001b[0m         i \u001b[38;5;241m+\u001b[39m\u001b[38;5;241m=\u001b[39m \u001b[38;5;241m0\u001b[39m\n\u001b[1;32m     10\u001b[0m     \u001b[38;5;28mprint\u001b[39m(planets)\n\u001b[0;32m---> 12\u001b[0m \u001b[43mminimum_distance\u001b[49m\u001b[43m(\u001b[49m\u001b[43mplanet_data\u001b[49m\u001b[43m)\u001b[49m\n",
      "Cell \u001b[0;32mIn[9], line 3\u001b[0m, in \u001b[0;36mminimum_distance\u001b[0;34m(data)\u001b[0m\n\u001b[1;32m      1\u001b[0m \u001b[38;5;28;01mdef\u001b[39;00m \u001b[38;5;21mminimum_distance\u001b[39m(data):\n\u001b[1;32m      2\u001b[0m     \u001b[38;5;66;03m# Locates and prints planets that are a minimum distance of 5 AU from the sun\u001b[39;00m\n\u001b[0;32m----> 3\u001b[0m     values \u001b[38;5;241m=\u001b[39m \u001b[38;5;28;43mlist\u001b[39;49m\u001b[43m(\u001b[49m\u001b[43mdata\u001b[49m\u001b[38;5;241;43m.\u001b[39;49m\u001b[43mvalues\u001b[49m\u001b[43m(\u001b[49m\u001b[43m)\u001b[49m\u001b[43m)\u001b[49m\n\u001b[1;32m      4\u001b[0m     planets \u001b[38;5;241m=\u001b[39m \u001b[38;5;28mlist\u001b[39m(data\u001b[38;5;241m.\u001b[39mkeys())\n\u001b[1;32m      5\u001b[0m     i \u001b[38;5;241m=\u001b[39m \u001b[38;5;241m0\u001b[39m\n",
      "\u001b[0;31mTypeError\u001b[0m: 'list' object is not callable"
     ]
    }
   ],
   "source": [
    "def minimum_distance(data):\n",
    "    # Locates and prints planets that are a minimum distance of 5 AU from the sun\n",
    "    values = list(data.values())\n",
    "    planets = list(data.keys())\n",
    "    i = 0\n",
    "    while values[i] < 5:\n",
    "        values.remove(values[i])\n",
    "        planets.remove(planets[i])\n",
    "        i += 0\n",
    "    print(planets)\n",
    "\n",
    "minimum_distance(planet_data)"
   ]
  },
  {
   "cell_type": "markdown",
   "id": "5e1ba0c0-5dd9-44e8-895c-73a36d614949",
   "metadata": {},
   "source": [
    "# 3 Observing Stars in a Cluster\n",
    "Your goal is to calculate the total brightness of a group of stars in a star cluster and estimate how long it would take for a telescope to observer each star, depending on their brightness (magnitude). Here is some background information:\n",
    "- The brightness of a star, from a telescope, is measured by its **apparent magnitude**, a LOWER magnitude means a brighter star. A HIGHER magnitude means a fainter star. So a 4th magnitude star is much brighter than a 17th magnitude star.\n",
    "- To convert magnitude into brightness, use the following formula\n",
    "$$\n",
    "\\text{Brightness} = 10^{-\\frac{\\text{magnitude}}{2.5}}\n",
    "$$\n",
    "\n",
    "Use this list of magnitudes and time limit:\n",
    "\n",
    "```\n",
    "magnitudes = [12.5, 13.2, 14.8, 19.1, 21.0, 18.5, 15.3, 10.5, 23.0]\n",
    "time_limit = 500\n",
    "```\n",
    "\n",
    "Expected outcome (your solutions with be the answers to the ???):\n",
    "- Total brightness of the stars: ???\n",
    "- Total observation time for all observable stars: ???\n",
    "- Number of stars that can be observed within 500 seconds: ???"
   ]
  },
  {
   "cell_type": "markdown",
   "id": "336785a7-71bf-434d-982c-dd72dd29cf71",
   "metadata": {},
   "source": [
    "## 3.1 Calculate Brightness\n",
    "1) Write a **function** which inputs a list of star magnitudes (brightnesses).\n",
    "2) Inside your function, use a `for` loop to calculate (with the given formula) the brightness of each star.\n",
    "3) Inside your function, use a `for` loop to sum up the total brightness of all the stars.\n",
    "5) Have your function return the **total brightness** of all the stars and a **list of the brightnesses** of the stars.\n",
    "6) Test out your function with the **given** magnitude values."
   ]
  },
  {
   "cell_type": "code",
   "execution_count": 2,
   "id": "ccc331f4-c029-4a82-810b-4a78d0fa1a2a",
   "metadata": {},
   "outputs": [
    {
     "name": "stdout",
     "output_type": "stream",
     "text": [
      "([3.162277660168379e-13, 6.309573444801943e-14, 1.584893192461111e-15, 7.94328234724279e-20, 1e-21, 3.162277660168379e-19, 5.011872336272715e-16, 3.1622776601683794e-11, 1e-23], 3.200418657924533e-11)\n"
     ]
    }
   ],
   "source": [
    "def star_magnitude(magnitude):\n",
    "    # Adds the individual brightnesses to an empty list, then sums them\n",
    "    brightness = []\n",
    "    sum_brightness = 0\n",
    "    for star in range(len(magnitude)):\n",
    "        calculation = 10**(-magnitude[star])\n",
    "        brightness.append(calculation)\n",
    "    for star in range(len(brightness)):\n",
    "        sum_brightness += brightness[star]\n",
    "    return brightness, sum_brightness\n",
    "\n",
    "magnitudes = [12.5, 13.2, 14.8, 19.1, 21.0, 18.5, 15.3, 10.5, 23.0]\n",
    "\n",
    "my_brightnesses = star_magnitude(magnitudes)\n",
    "print(my_brightnesses)\n",
    "\n",
    "# Prints just brightnesses for use in other functions\n",
    "brightnesses = star_magnitude(magnitudes)[0]"
   ]
  },
  {
   "cell_type": "markdown",
   "id": "9aff0e1c-9f88-4ebb-a05b-d39363d9e88e",
   "metadata": {},
   "source": [
    "## 3.2 Observation Time\n",
    "1) Write a **function** which inputs a list of star magnitudes (brightnesses).\n",
    "2) Inside your function, use a `for` loop to calculate the time to observe each star.\n",
    "- You can just assume each star's observation time is inversely proportional to its brightness with the following formula:\n",
    "\n",
    "$$\n",
    "\\text{Observation Time (in seconds)} \\propto \\frac{1}{\\text{Brightness}} \n",
    "$$\n",
    "\n",
    "3) Inside you function, write a `condition` that ignores stars that have a magnitude greater than 20 (very very faint stars).\n",
    "4) Have your function return the **total observation time** (ignoring >20 magnitudes) and a **list of the times** it would take to observe each individual star.\n",
    "5) Test out your function with the **given** magnitude values."
   ]
  },
  {
   "cell_type": "code",
   "execution_count": 3,
   "id": "044d17cf-82a8-44b6-8958-447632f713f6",
   "metadata": {},
   "outputs": [
    {
     "name": "stdout",
     "output_type": "stream",
     "text": [
      "([0.08, 0.07575757575757576, 0.06756756756756756, 0.05235602094240837, 0.047619047619047616, 0.05405405405405406, 0.06535947712418301, 0.09523809523809523, 0.043478260869565216], 0.49033279068388397)\n"
     ]
    }
   ],
   "source": [
    "def observation_time(magnitude):\n",
    "    # Calculates brightnesses from magnitudes, then uses them to calculate the observation times\n",
    "    observations = []\n",
    "    total_time = 0\n",
    "        \n",
    "    for i in range(len(magnitude)):\n",
    "        observations.append(1/magnitude[i])\n",
    "        if magnitude[i] < 20:\n",
    "            total_time += observations[i]\n",
    "            \n",
    "    return observations, total_time\n",
    "\n",
    "magnitudes = [12.5, 13.2, 14.8, 19.1, 21.0, 18.5, 15.3, 10.5, 23.0]\n",
    "my_observations = observation_time(magnitudes)\n",
    "print(my_observations)\n",
    "\n",
    "observations = observation_time(magnitudes)"
   ]
  },
  {
   "cell_type": "markdown",
   "id": "102d3c15-0b4f-48a7-8fdc-f896c1841aca",
   "metadata": {},
   "source": [
    "## 3.3 Time Until the Limit\n",
    "1) Write a **function** which inputs a list of star magnitudes (brightnesses) and time limit.\n",
    "   - Make your time limit a default argument.\n",
    "2) Inside your function, make a counter called `total time` and set it to 0.\n",
    "3) Inside your function, use a `while` loop to set the time limit of your observation.\n",
    "4) Inside your function, use assigment operators to update the `total time` observed. \n",
    "5) Inside your function, use a `condition` to skip stars with magnitude 20 or greater. \n",
    "6) Have your function return the **number of stars that can be observed** within the time limit and **how long the observation will take** (this should be less than the time limit).\n",
    "7) Test out your function with the **given** magnitude values and time limit."
   ]
  },
  {
   "cell_type": "code",
   "execution_count": 4,
   "id": "5a541a62-0903-41bd-91c9-ee21172069a3",
   "metadata": {},
   "outputs": [
    {
     "ename": "TypeError",
     "evalue": "can only concatenate list (not \"int\") to list",
     "output_type": "error",
     "traceback": [
      "\u001b[0;31m---------------------------------------------------------------------------\u001b[0m",
      "\u001b[0;31mTypeError\u001b[0m                                 Traceback (most recent call last)",
      "Cell \u001b[0;32mIn[4], line 15\u001b[0m\n\u001b[1;32m     13\u001b[0m magnitudes \u001b[38;5;241m=\u001b[39m [\u001b[38;5;241m12.5\u001b[39m, \u001b[38;5;241m13.2\u001b[39m, \u001b[38;5;241m14.8\u001b[39m, \u001b[38;5;241m19.1\u001b[39m, \u001b[38;5;241m21.0\u001b[39m, \u001b[38;5;241m18.5\u001b[39m, \u001b[38;5;241m15.3\u001b[39m, \u001b[38;5;241m10.5\u001b[39m, \u001b[38;5;241m23.0\u001b[39m]\n\u001b[1;32m     14\u001b[0m time_limit \u001b[38;5;241m=\u001b[39m \u001b[38;5;241m500\u001b[39m\n\u001b[0;32m---> 15\u001b[0m my_limits \u001b[38;5;241m=\u001b[39m \u001b[43mtime_constraint\u001b[49m\u001b[43m(\u001b[49m\u001b[43mmagnitudes\u001b[49m\u001b[43m,\u001b[49m\u001b[43m \u001b[49m\u001b[43mtime_limit\u001b[49m\u001b[43m,\u001b[49m\u001b[43m \u001b[49m\u001b[43mobservations\u001b[49m\u001b[43m)\u001b[49m\n",
      "Cell \u001b[0;32mIn[4], line 7\u001b[0m, in \u001b[0;36mtime_constraint\u001b[0;34m(magnitude, limit, observation)\u001b[0m\n\u001b[1;32m      5\u001b[0m \u001b[38;5;28;01mwhile\u001b[39;00m total_time \u001b[38;5;241m<\u001b[39m limit:\n\u001b[1;32m      6\u001b[0m     \u001b[38;5;28;01mfor\u001b[39;00m i \u001b[38;5;129;01min\u001b[39;00m \u001b[38;5;28mrange\u001b[39m(\u001b[38;5;28mlen\u001b[39m(magnitude)):\n\u001b[0;32m----> 7\u001b[0m         test \u001b[38;5;241m=\u001b[39m \u001b[43mobservation\u001b[49m\u001b[43m[\u001b[49m\u001b[43mi\u001b[49m\u001b[43m]\u001b[49m\u001b[43m \u001b[49m\u001b[38;5;241;43m+\u001b[39;49m\u001b[43m \u001b[49m\u001b[43mtotal_time\u001b[49m\n\u001b[1;32m      8\u001b[0m         \u001b[38;5;28;01mif\u001b[39;00m magnitude[i] \u001b[38;5;241m<\u001b[39m \u001b[38;5;241m20\u001b[39m \u001b[38;5;129;01mand\u001b[39;00m test \u001b[38;5;241m<\u001b[39m limit:\n\u001b[1;32m      9\u001b[0m             stars \u001b[38;5;241m+\u001b[39m\u001b[38;5;241m=\u001b[39m \u001b[38;5;241m1\u001b[39m\n",
      "\u001b[0;31mTypeError\u001b[0m: can only concatenate list (not \"int\") to list"
     ]
    }
   ],
   "source": [
    "def time_constraint(magnitude, limit, observation):\n",
    "    # Calculates the number of stars that can be observed and the total time for observation\n",
    "    total_time = 0\n",
    "    stars = 0\n",
    "    while total_time < limit:\n",
    "        for i in range(len(magnitude)):\n",
    "            test = observation[i] + total_time\n",
    "            if magnitude[i] < 20 and test < limit:\n",
    "                stars += 1\n",
    "                total_time += observation[i]\n",
    "    return stars, total_time\n",
    "\n",
    "magnitudes = [12.5, 13.2, 14.8, 19.1, 21.0, 18.5, 15.3, 10.5, 23.0]\n",
    "time_limit = 500\n",
    "my_limits = time_constraint(magnitudes, time_limit, observations)"
   ]
  },
  {
   "cell_type": "markdown",
   "id": "d2ab246f-9570-483e-b35b-cf1056f20936",
   "metadata": {},
   "source": [
    "## 3.4 Call Upon Your Functions\n",
    "You do not need to rewrite your functions once you have written them! That's what is so awesome about **functions**! \n",
    "\n",
    "1) With a new test case (different magnitudes and time limit) call your three functions you wrote above.\n",
    "2) Print out their return statements, example:\n",
    "\n",
    "```\n",
    ">>> my_return = my_function(my_argument):\n",
    ">>> print(my_return)\n",
    "```"
   ]
  },
  {
   "cell_type": "code",
   "execution_count": null,
   "id": "4c4c9389-04f5-49bc-823c-a12d6c003b60",
   "metadata": {},
   "outputs": [],
   "source": [
    "magnitudes = [4, 23, 23, 19, 13, 12, 11, 7, 8, 4, 12, 13]\n",
    "time_limit = 1000\n",
    "\n",
    "star_magnitude(magnitudes)\n",
    "observation_time(magnitudes)\n",
    "observations = observation_time(magnitudes)[0]\n",
    "time_constraint(magnitudes, time_limit)"
   ]
  },
  {
   "cell_type": "markdown",
   "id": "daba92d4-a646-4efc-824d-85b52ea3c573",
   "metadata": {},
   "source": [
    "# 4 Debug the Quadratic Function!\n",
    "The code below does not follow proper coding hygiene (good coding sklls) and is riddled with bugs! Answer the following question and follow the steps below:\n",
    "1) When you run the cell, what is the first error you get? What does this mean? What are three other things wrong with this function?\n",
    "2) Fix the bugs! No importing packages.\n",
    "3) Rewrite the code, such that it follows \"good coding skills\".\n",
    "\n",
    "Try out the test case of `a = 2`, `b = -5` and `c = 3`. You should get `(1.5, 1.0)`. Try out your own test case as well."
   ]
  },
  {
   "cell_type": "code",
   "execution_count": 4,
   "id": "cd66dd28-f8d3-447c-8d20-ff3e31bfaa07",
   "metadata": {},
   "outputs": [
    {
     "ename": "SyntaxError",
     "evalue": "invalid decimal literal (3123343732.py, line 5)",
     "output_type": "error",
     "traceback": [
      "\u001b[0;36m  Cell \u001b[0;32mIn[4], line 5\u001b[0;36m\u001b[0m\n\u001b[0;31m    bottom = 2a\u001b[0m\n\u001b[0m             ^\u001b[0m\n\u001b[0;31mSyntaxError\u001b[0m\u001b[0;31m:\u001b[0m invalid decimal literal\n"
     ]
    }
   ],
   "source": [
    "def q_f(a, b = [1, 10, -5], c = \"three\"):\n",
    "    new_b = b[0]\n",
    "    bottom = two * a\n",
    "    a = 2\n",
    "    bottom = 2a\n",
    "    while bottom != 0:\n",
    "        print(\"\n",
    "    pos_answer == (-b + (b*2 - 4 * a * c)**(1/2)) / bottom \n",
    "    neg_answer = (-b - (b**2 - 44 * a * c)**(1/2)) // bottom\n",
    "    neg_answer = -(pos_answer) \n",
    "    \n",
    "    return [(max(neg_answer), min(pos_answer)) for i in range(55)]"
   ]
  },
  {
   "cell_type": "markdown",
   "id": "7865af95-f1b4-41fa-a630-3db1c8494beb",
   "metadata": {},
   "source": [
    "The first error message is \"invalid decimal.\" This error message occurs because the line of code attempts to multiply a variable by a constant without using an operator. The cell also lacks a message explaining what the function does, defines a variable as a string when it should be an integer, and attempts to multiply strings and integers."
   ]
  },
  {
   "cell_type": "markdown",
   "id": "75f8d0d7-2cd6-49df-8f02-5df798cfe669",
   "metadata": {},
   "source": [
    "Fixed Bugs:"
   ]
  },
  {
   "cell_type": "code",
   "execution_count": 3,
   "id": "4b8b7da3-e869-4413-84bd-138c5240feff",
   "metadata": {},
   "outputs": [
    {
     "name": "stdout",
     "output_type": "stream",
     "text": [
      "[1.5, 1.0]\n"
     ]
    }
   ],
   "source": [
    "def q_f(a, b, c):\n",
    "    bottom = 2 * a\n",
    "    if bottom != 0:\n",
    "        pos_answer = (-b + (b**2 - 4 * a * c)**(1/2)) / bottom \n",
    "        neg_answer = (-b - (b**2 - 4 * a * c)**(1/2)) / bottom\n",
    "    \n",
    "    return [pos_answer,neg_answer]\n",
    "\n",
    "a = 2\n",
    "b = -5\n",
    "c = 3\n",
    "print(q_f(a,b,c))"
   ]
  },
  {
   "cell_type": "markdown",
   "id": "f302509d-cd0e-4d4f-b878-3440e064a74a",
   "metadata": {},
   "source": [
    "Rewritten with good coding hygiene:"
   ]
  },
  {
   "cell_type": "code",
   "execution_count": 1,
   "id": "d36ff5a1-b22b-4d00-8b9c-8a7b5dc1b944",
   "metadata": {},
   "outputs": [
    {
     "name": "stdout",
     "output_type": "stream",
     "text": [
      "2\n",
      "-5\n",
      "3\n",
      "1.0\n",
      "(1.5, 1.0)\n"
     ]
    }
   ],
   "source": [
    "def quadratic_function(a,b,c):\n",
    "    # Determines x for a function of form ax^2 + bx + c = 0\n",
    "    denominator = 2*a\n",
    "    print(a)\n",
    "    print(b)\n",
    "    print(c)\n",
    "    discriminant = (b**2 - 4*a*c)\n",
    "    print(discriminant**(1/2))\n",
    "    if denominator != 0:\n",
    "        positive_root = (-b + discriminant)/denominator\n",
    "        negative_root = (-b - discriminant)/denominator\n",
    "\n",
    "    return positive_root, negative_root\n",
    "\n",
    "a = 2\n",
    "b = -5\n",
    "c = 3\n",
    "print(quadratic_function(a,b,c))"
   ]
  },
  {
   "cell_type": "markdown",
   "id": "8cf33b19-9bca-484e-8129-d8a4896a1bfa",
   "metadata": {},
   "source": [
    "# 5 Proper Submission\n",
    "To recieve full credit for this assignment make sure you do the following:\n",
    "1) Copy this jupter notebook from the `ulab_2024` repository into **YOUR** local `homework` branch.\n",
    "   \n",
    "3) Follow the tasks. Make sure to run all the cells so that all output is visible.\n",
    "   \n",
    "5) Push this notebook to your remote `homework6` branch. Refer to the lecture slides for more information.\n",
    "      \n",
    "6) **WARNING!! IF YOU DO NOT FOLLOW THIS STEP YOU WILL RECIEVE A ZERO!**\n",
    "   1) Take a screenshot of your command line when you `push` this notebook from your local `homework6` branch to your remote `homework6` branch. Make sure to prove that you are inside a branch besides `main` or `master` by calling `git branch` and make sure to prove that your `homework6` branch only contains the homework4 folder of Jupyter Notebook you copied over from `ulab_2024` (which can be done by calling `ls`). You could also call `git status` before/after as a way to prove you pushed the proper files to the correct branches.\n",
    "   2)  Include that screenshot in your remote branch when you upload your GitHub branch to Gradescope!"
   ]
  },
  {
   "cell_type": "code",
   "execution_count": null,
   "id": "b0926042-d1cf-4a2e-8fc8-d93395a6a7cf",
   "metadata": {},
   "outputs": [],
   "source": []
  }
 ],
 "metadata": {
  "kernelspec": {
   "display_name": "Python 3 (ipykernel)",
   "language": "python",
   "name": "python3"
  },
  "language_info": {
   "codemirror_mode": {
    "name": "ipython",
    "version": 3
   },
   "file_extension": ".py",
   "mimetype": "text/x-python",
   "name": "python",
   "nbconvert_exporter": "python",
   "pygments_lexer": "ipython3",
   "version": "3.12.4"
  }
 },
 "nbformat": 4,
 "nbformat_minor": 5
}
