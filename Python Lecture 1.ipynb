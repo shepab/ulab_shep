{
 "cells": [
  {
   "cell_type": "code",
   "execution_count": 1,
   "id": "0153df8e-516c-450f-bb7d-a85c2a54d891",
   "metadata": {},
   "outputs": [
    {
     "name": "stdout",
     "output_type": "stream",
     "text": [
      "Hello world!\n"
     ]
    }
   ],
   "source": [
    "# Prints \"Hello World!\"\n",
    "'''\n",
    "Prints:\n",
    "Hello world!\n",
    "'''\n",
    "\n",
    "print(\"Hello world!\""
   ]
  },
  {
   "cell_type": "code",
   "execution_count": 6,
   "id": "274cb314-b81a-45f6-9c1f-db9cea4e1142",
   "metadata": {},
   "outputs": [
    {
     "name": "stdout",
     "output_type": "stream",
     "text": [
      "String <class 'str'>\n"
     ]
    }
   ],
   "source": [
    "# Strings\n",
    "myString = \"String\"\n",
    "print(string, type(myString))"
   ]
  },
  {
   "cell_type": "code",
   "execution_count": 7,
   "id": "b01e13bb-6742-463b-abdb-105cc52bffb9",
   "metadata": {},
   "outputs": [
    {
     "name": "stdout",
     "output_type": "stream",
     "text": [
      "5 <class 'int'>\n"
     ]
    }
   ],
   "source": [
    "# Integers\n",
    "myInteger = 5\n",
    "print(integer, type(myInteger))"
   ]
  },
  {
   "cell_type": "code",
   "execution_count": 5,
   "id": "c297e118-66de-4f34-9d73-230b6ce52735",
   "metadata": {},
   "outputs": [
    {
     "name": "stdout",
     "output_type": "stream",
     "text": [
      "4.55 <class 'float'>\n"
     ]
    }
   ],
   "source": [
    "# Floats\n",
    "myFloat = 4.55\n",
    "print(myFloat, type(myFloat))"
   ]
  },
  {
   "cell_type": "code",
   "execution_count": 9,
   "id": "f22dc4bb-dc01-47dd-93fc-0a214b8bf249",
   "metadata": {},
   "outputs": [
    {
     "name": "stdout",
     "output_type": "stream",
     "text": [
      "True <class 'bool'>\n"
     ]
    }
   ],
   "source": [
    "# Boolean\n",
    "myBool = True\n",
    "print(myBool, type(myBool))"
   ]
  },
  {
   "cell_type": "code",
   "execution_count": 10,
   "id": "3aa31e23-bb90-4901-9788-aa9ebc6a1fa4",
   "metadata": {},
   "outputs": [
    {
     "name": "stdout",
     "output_type": "stream",
     "text": [
      "[1, 2, 3.14, 'hello!', False] <class 'list'>\n"
     ]
    }
   ],
   "source": [
    "# Lists (mixed data types)\n",
    "myList = [1, 2, 3.14, \"hello!\", False]\n",
    "print(myList, type(myList))"
   ]
  },
  {
   "cell_type": "code",
   "execution_count": 23,
   "id": "f0a4bc64-0c56-4814-bb1c-fd837259225d",
   "metadata": {},
   "outputs": [
    {
     "name": "stdout",
     "output_type": "stream",
     "text": [
      "{'codes': [1221, 4442, 9184], 'names': ['Bob', 'Steve', 'Janet']} <class 'dict'>\n",
      "[1221, 4442, 9184]\n",
      "['Bob', 'Steve', 'Janet']\n"
     ]
    }
   ],
   "source": [
    "# Dictionaries (key:value pairs)\n",
    "myDictionary = {\"codes\":[1221,4442, 9184], \"names\":[\"Bob\",\"Steve\",\"Janet\"]}\n",
    "print(myDictionary, type(myDictionary))\n",
    "print(myDictionary[\"codes\"])\n",
    "print(myDictionary[\"names\"])"
   ]
  },
  {
   "cell_type": "code",
   "execution_count": 24,
   "id": "f1e58035-941c-4aeb-976e-978be47ce84d",
   "metadata": {},
   "outputs": [
    {
     "name": "stdout",
     "output_type": "stream",
     "text": [
      "(1, 2, 3, 4) <class 'tuple'>\n"
     ]
    }
   ],
   "source": [
    "# Tuples (immutable lists)\n",
    "myTuple = (1,2,3,4)\n",
    "print(myTuple, type(myTuple))"
   ]
  },
  {
   "cell_type": "code",
   "execution_count": 25,
   "id": "e10dc3e6-e893-463e-a19a-f959ccdc2576",
   "metadata": {},
   "outputs": [
    {
     "name": "stdout",
     "output_type": "stream",
     "text": [
      "{40, 20, 30} <class 'set'>\n"
     ]
    }
   ],
   "source": [
    "# Sets (ordered collection of unique items)\n",
    "mySet = {20,30,40}\n",
    "print(mySet, type(mySet))"
   ]
  },
  {
   "cell_type": "code",
   "execution_count": 29,
   "id": "1e6f2c94-86d4-4854-83e6-d9f71bc04922",
   "metadata": {},
   "outputs": [
    {
     "name": "stdout",
     "output_type": "stream",
     "text": [
      "1+2 =  3\n",
      "1-2 =  -1\n",
      "1 x 2 =  2\n",
      "1/2 =  0.5\n",
      "1/2 (rounded down) =  0\n",
      "remainder of 1/2 =  1\n",
      "1^2 =  1\n"
     ]
    }
   ],
   "source": [
    "# Calculations\n",
    "\n",
    "print(\"1+2 = \",1+2) # Addition\n",
    "print(\"1-2 = \",1-2) # Subtraction\n",
    "print(\"1 x 2 = \",1*2) #Multiplication\n",
    "print(\"1/2 = \",1 / 2) # Division\n",
    "print(\"1/2 (rounded down) = \",1 // 2) # Floor division\n",
    "print(\"remainder of 1/2 = \",1 % 2) # Modulus\n",
    "print(\"1^2 = \", 1**2) # Exponent"
   ]
  },
  {
   "cell_type": "code",
   "execution_count": null,
   "id": "9e5cc59f-34bb-4b2c-85d0-a823c6bccae3",
   "metadata": {},
   "outputs": [],
   "source": [
    "# Variables\n",
    "'''\n",
    "Variable rules:\n",
    "- Case sensitive\n",
    "- Can have numbers and letters\n",
    "- Cannot start with a number\n",
    "- Cannot use reserved keywords (if, class, etc)"
   ]
  },
  {
   "cell_type": "code",
   "execution_count": 30,
   "id": "80fa7335-977d-458c-b74b-4161e68d16fe",
   "metadata": {},
   "outputs": [
    {
     "name": "stdout",
     "output_type": "stream",
     "text": [
      "1\n",
      "2\n",
      "3\n"
     ]
    }
   ],
   "source": [
    "# Defining multiple variables\n",
    "a, b, c = 1, 2, 3\n",
    "print(a)\n",
    "print(b)\n",
    "print(c)"
   ]
  },
  {
   "cell_type": "code",
   "execution_count": 31,
   "id": "91c62a88-e62b-478f-a043-285fd515142e",
   "metadata": {},
   "outputs": [
    {
     "name": "stdout",
     "output_type": "stream",
     "text": [
      "10\n",
      "10\n",
      "10\n"
     ]
    }
   ],
   "source": [
    "# Assigning a value to multiple variables\n",
    "a = b = c = 10\n",
    "print(a)\n",
    "print(b)\n",
    "print(c)"
   ]
  },
  {
   "cell_type": "code",
   "execution_count": 32,
   "id": "312a899b-3deb-4a08-a21c-de8036060dac",
   "metadata": {},
   "outputs": [
    {
     "name": "stdout",
     "output_type": "stream",
     "text": [
      "2\n",
      "4\n"
     ]
    }
   ],
   "source": [
    "# Rewriting Variables\n",
    "myVar = 2\n",
    "print(myVar)\n",
    "\n",
    "myVar = 4\n",
    "print(myVar)"
   ]
  },
  {
   "cell_type": "code",
   "execution_count": 38,
   "id": "68dace02-7bf8-443b-ab09-9d665e43ef4c",
   "metadata": {},
   "outputs": [
    {
     "name": "stdout",
     "output_type": "stream",
     "text": [
      "orange\n"
     ]
    }
   ],
   "source": [
    "# Common variable name conventions\n",
    "\n",
    "# Snake Case: Variables, functions\n",
    "favorite_color = \"blue\"\n",
    "\n",
    "# Screaming Snake Case: Constants\n",
    "a = 2\n",
    "\n",
    "# Pascal Case: Classes\n",
    "class KittyCat:\n",
    "    fur = \"orange\"\n",
    "\n",
    "print(KittyCat.fur)\n",
    "\n",
    "# Camel Case: Common in Java\n",
    "myVar = 2"
   ]
  },
  {
   "cell_type": "code",
   "execution_count": 46,
   "id": "a905aaab-4528-4573-bf3e-45f7a306d5d3",
   "metadata": {},
   "outputs": [
    {
     "data": {
      "text/plain": [
       "'Hello, Shep!'"
      ]
     },
     "execution_count": 46,
     "metadata": {},
     "output_type": "execute_result"
    }
   ],
   "source": [
    "# Defining a function\n",
    "\n",
    "def greet(name): # Making the function; def name(input, argument):\n",
    "    return \"Hello, \" + name + \"!\" # Output, no parentheses needed\n",
    "\n",
    "greet(\"Shep\") # Calling the function"
   ]
  },
  {
   "cell_type": "code",
   "execution_count": 44,
   "id": "f169f1a0-9360-4967-b8a1-80dfca100ba6",
   "metadata": {},
   "outputs": [
    {
     "data": {
      "text/plain": [
       "\"Shep's favorite color is blue!\""
      ]
     },
     "execution_count": 44,
     "metadata": {},
     "output_type": "execute_result"
    }
   ],
   "source": [
    "# Default arguments\n",
    "def favorite_color(color, person=\"Shep\"):\n",
    "    return person + \"'s favorite color is \" + color + \"!\"\n",
    "\n",
    "favorite_color(color=\"blue\")"
   ]
  },
  {
   "cell_type": "code",
   "execution_count": 48,
   "id": "f2abd307-bbdb-4bec-b6c4-608d7e102eb8",
   "metadata": {},
   "outputs": [
    {
     "data": {
      "text/plain": [
       "\"Peppers's favorite color is red!\""
      ]
     },
     "execution_count": 48,
     "metadata": {},
     "output_type": "execute_result"
    }
   ],
   "source": [
    "# Default arguments can be overwritten\n",
    "favorite_color(color=\"red\", person=\"Peppers\")"
   ]
  },
  {
   "cell_type": "code",
   "execution_count": 49,
   "id": "bf66630c-41f9-4e9d-9f3a-efcc7c87ff8d",
   "metadata": {},
   "outputs": [
    {
     "data": {
      "text/plain": [
       "10"
      ]
     },
     "execution_count": 49,
     "metadata": {},
     "output_type": "execute_result"
    }
   ],
   "source": [
    "# Global functions\n",
    "\n",
    "x = 10 # Can be used in or out of functions\n",
    "def display_variable():\n",
    "    return x\n",
    "display_variable()"
   ]
  },
  {
   "cell_type": "code",
   "execution_count": 54,
   "id": "ad1fb431-8b6a-4f33-9764-836e523168bc",
   "metadata": {},
   "outputs": [
    {
     "name": "stdout",
     "output_type": "stream",
     "text": [
      "300\n",
      "10\n"
     ]
    }
   ],
   "source": [
    "def display_variable2():\n",
    "    x = 300 # Local x\n",
    "    print(x)\n",
    "\n",
    "display_variable2()\n",
    "print(x)"
   ]
  },
  {
   "cell_type": "code",
   "execution_count": 68,
   "id": "6455312b-daf6-43b4-abf7-9350b615f325",
   "metadata": {},
   "outputs": [
    {
     "name": "stdout",
     "output_type": "stream",
     "text": [
      "[1, 2, 3.14, 'hello!', False]\n",
      "-42\n",
      "{40, 20, 30}\n",
      "90\n",
      "20\n",
      "40\n",
      "3\n"
     ]
    }
   ],
   "source": [
    "# Built in functions\n",
    "\n",
    "print(myList)\n",
    "len(myList) # Number of objects in list\n",
    "\n",
    "num = -42\n",
    "print(num)\n",
    "abs(num) # Returns absolute value of a number\n",
    "\n",
    "print(mySet)\n",
    "print(sum(mySet)) # Sums a list/set\n",
    "print(min(mySet)) # Minimum value of list/set\n",
    "print(max(mySet)) # Maximum value of list/set\n",
    "\n",
    "num = 3.131\n",
    "print(round(num)) # Rounds a value"
   ]
  },
  {
   "cell_type": "code",
   "execution_count": 69,
   "id": "5e25c3c5-002f-44fe-babc-25faa68f3a5d",
   "metadata": {},
   "outputs": [
    {
     "name": "stdout",
     "output_type": "stream",
     "text": [
      "True\n",
      "False\n",
      "False\n",
      "True\n",
      "False\n",
      "True\n",
      "True\n",
      "False\n",
      "True\n",
      "True\n",
      "False\n",
      "True\n",
      "False\n",
      "True\n"
     ]
    }
   ],
   "source": [
    "# Comparison Operators\n",
    "\n",
    "print(5 == 5) # Equal to?\n",
    "print(6 == 5)\n",
    "\n",
    "print(5 != 5) # Not equal to?\n",
    "print(6 != 5)\n",
    "\n",
    "print(4 > 5) # Greater than?\n",
    "print(6 > 5)\n",
    "\n",
    "print(4 < 5) # Less than?\n",
    "print(6 < 5)\n",
    "\n",
    "print(5 <= 5) # Less than or equal to?\n",
    "print(4 <= 5)\n",
    "print(6 <= 5)\n",
    "\n",
    "print(5 >= 5) # Greater than or equal to?\n",
    "print(4 >= 5)\n",
    "print(6 >= 5)"
   ]
  },
  {
   "cell_type": "code",
   "execution_count": 70,
   "id": "5e5151dd-383f-4321-9027-6ddbd951c7ee",
   "metadata": {},
   "outputs": [
    {
     "name": "stdout",
     "output_type": "stream",
     "text": [
      "1\n",
      "2\n",
      "1\n",
      "2\n",
      "1.0\n",
      "0.0\n"
     ]
    }
   ],
   "source": [
    "# Assignment operations\n",
    "\n",
    "x = 1\n",
    "print(x)\n",
    "\n",
    "x += 1 # Adds to x\n",
    "print(x)\n",
    "\n",
    "x -= 1 # Subtracts from x\n",
    "print(x)\n",
    "\n",
    "x *= 2 # Multiplies x\n",
    "print(x)\n",
    "\n",
    "x /= 2 # Divides x\n",
    "print(x)\n",
    "\n",
    "x //= 2 # Floor divides x\n",
    "print(x)"
   ]
  },
  {
   "cell_type": "code",
   "execution_count": null,
   "id": "77fa33cf-1e4a-4ce1-bcf5-86577903b82d",
   "metadata": {},
   "outputs": [],
   "source": []
  }
 ],
 "metadata": {
  "kernelspec": {
   "display_name": "Python 3 (ipykernel)",
   "language": "python",
   "name": "python3"
  },
  "language_info": {
   "codemirror_mode": {
    "name": "ipython",
    "version": 3
   },
   "file_extension": ".py",
   "mimetype": "text/x-python",
   "name": "python",
   "nbconvert_exporter": "python",
   "pygments_lexer": "ipython3",
   "version": "3.12.4"
  }
 },
 "nbformat": 4,
 "nbformat_minor": 5
}
